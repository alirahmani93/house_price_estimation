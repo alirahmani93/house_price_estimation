{
 "cells": [
  {
   "cell_type": "code",
   "execution_count": 1,
   "id": "c73775dc-83bd-4aee-bac6-610d506a44ee",
   "metadata": {},
   "outputs": [],
   "source": [
    "import pandas as pd\n",
    "import numpy as np\n",
    "from math import radians, cos, sin, asin, sqrt "
   ]
  },
  {
   "cell_type": "code",
   "execution_count": 2,
   "id": "0606f809-2a72-450f-8ab1-0c0a1d9950f3",
   "metadata": {},
   "outputs": [],
   "source": [
    "metro = pd.read_csv('metro.csv')"
   ]
  },
  {
   "cell_type": "code",
   "execution_count": 7,
   "id": "f17e0362-f100-4dee-a55e-8976584198e0",
   "metadata": {},
   "outputs": [],
   "source": [
    "cor = pd.read_csv('new_coordinates.csv')"
   ]
  },
  {
   "cell_type": "code",
   "execution_count": 9,
   "id": "f5ce5ce1-194b-400f-8561-7ec91ac155c6",
   "metadata": {},
   "outputs": [],
   "source": [
    "cor['loc_name'] = cor.loc_name.str.replace(' تهران','')"
   ]
  },
  {
   "cell_type": "code",
   "execution_count": 10,
   "id": "094bd785-43af-48e8-8e56-e6e04d86340d",
   "metadata": {},
   "outputs": [],
   "source": [
    "def distance(lat1, lon1, lat2, lon2): \n",
    "    \n",
    "    lon1 = radians(lon1) \n",
    "    lon2 = radians(lon2) \n",
    "    lat1 = radians(lat1) \n",
    "    lat2 = radians(lat2)  \n",
    "    dlon = lon2 - lon1  \n",
    "    dlat = lat2 - lat1 \n",
    "    a = sin(dlat / 2)**2 + cos(lat1) * cos(lat2) * sin(dlon / 2)**2\n",
    "    c = 2 * asin(sqrt(a))  \n",
    "    \n",
    "    r = 6371\n",
    "    return(c * r) \n",
    "    "
   ]
  },
  {
   "cell_type": "code",
   "execution_count": 11,
   "id": "315f26a5-033f-4311-bbe7-702efd9a6bf2",
   "metadata": {},
   "outputs": [],
   "source": [
    "cor_len = len(cor)\n",
    "metro_len = len(metro)\n",
    "region = []\n",
    "near_metro = []\n",
    "near_dist = []\n",
    "if_near=[]\n",
    "dist_min = 1"
   ]
  },
  {
   "cell_type": "code",
   "execution_count": 12,
   "id": "7c58ba08-940a-41f3-9142-71dbdc174dd8",
   "metadata": {},
   "outputs": [],
   "source": [
    "for i in range(cor_len):\n",
    "    for j in range(metro_len):\n",
    "        dist = distance(cor.iloc[i,1],cor.iloc[i,2],metro.iloc[j,1],metro.iloc[j,2])\n",
    "        if dist <= dist_min:\n",
    "            region.append(cor.iloc[i,0])\n",
    "            near_metro.append(metro.iloc[j,0])\n",
    "            near_dist.append(dist)\n",
    "            break"
   ]
  },
  {
   "cell_type": "code",
   "execution_count": 13,
   "id": "19a79af1-2806-452a-b38b-e3b8a5e3cc77",
   "metadata": {},
   "outputs": [
    {
     "name": "stdout",
     "output_type": "stream",
     "text": [
      "52\n",
      "52\n",
      "52\n"
     ]
    }
   ],
   "source": [
    "print(len(region))\n",
    "print(len(near_metro))\n",
    "print(len(near_dist))"
   ]
  },
  {
   "cell_type": "code",
   "execution_count": 14,
   "id": "3ba2c54d-20ae-4c8e-bf9d-a0cca74cbf72",
   "metadata": {},
   "outputs": [],
   "source": [
    "distance_df = pd.DataFrame({'region':region,'station':near_metro,'distance':near_dist})"
   ]
  },
  {
   "cell_type": "code",
   "execution_count": 15,
   "id": "df992140-7283-40a3-9d8a-ea976baed44e",
   "metadata": {},
   "outputs": [],
   "source": [
    "cor['if_near'] = cor['loc_name'].isin(distance_df['region']).astype(int)"
   ]
  },
  {
   "cell_type": "code",
   "execution_count": 16,
   "id": "b3b5079f-ea8f-47b8-9dbb-ae8acb846258",
   "metadata": {},
   "outputs": [],
   "source": [
    "cor.to_csv('if_near.csv')"
   ]
  },
  {
   "cell_type": "code",
   "execution_count": null,
   "id": "10c62d99-32d6-4ffe-94ab-965ba9426dba",
   "metadata": {},
   "outputs": [],
   "source": []
  },
  {
   "cell_type": "code",
   "execution_count": null,
   "id": "b56cc495-5058-4ef5-a764-a4df643a2d25",
   "metadata": {},
   "outputs": [],
   "source": []
  }
 ],
 "metadata": {
  "kernelspec": {
   "display_name": "Python 3 (ipykernel)",
   "language": "python",
   "name": "python3"
  },
  "language_info": {
   "codemirror_mode": {
    "name": "ipython",
    "version": 3
   },
   "file_extension": ".py",
   "mimetype": "text/x-python",
   "name": "python",
   "nbconvert_exporter": "python",
   "pygments_lexer": "ipython3",
   "version": "3.10.12"
  }
 },
 "nbformat": 4,
 "nbformat_minor": 5
}
