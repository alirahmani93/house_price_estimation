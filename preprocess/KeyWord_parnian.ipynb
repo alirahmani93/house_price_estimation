{
 "cells": [
  {
   "cell_type": "markdown",
   "metadata": {
    "id": "liUxWNp_0FyM"
   },
   "source": [
    "### **Look for keywords**"
   ]
  },
  {
   "cell_type": "markdown",
   "metadata": {
    "id": "JDF_bbnJ0TCm"
   },
   "source": []
  },
  {
   "cell_type": "code",
   "execution_count": null,
   "metadata": {
    "id": "zof3Dg530WbS"
   },
   "outputs": [],
   "source": [
    "df['Contains_teras'] = df['title'].str.contains('تراس|بالکن', regex=True)\n",
    "df['Contains_komod'] = df['title'].str.contains('کمد')\n",
    "df['Contains_master'] = df['title'].str.contains('مستر')\n",
    "df['Contains_kabinet'] = df['title'].str.contains('کابینت')\n",
    "df['Contains_metro'] = df['title'].str.contains('مترو')\n",
    "df['Contains_vam'] = df['title'].str.contains('وام')\n",
    "df['Contains_moshaat'] = df['title'].str.contains('مشاعات')\n",
    "df['Contains_vahedi'] = df['title'].str.contains('واحدی')\n",
    "df['Contains_sanad'] = df['title'].str.contains('سند')\n",
    "df['Contains_noor'] = df['title'].str.contains('نور')\n",
    "df['Contains_salon'] = df['title'].str.contains('سالن')\n",
    "df['Contains_labi'] = df['title'].str.contains('لابی')\n",
    "df['Contains_naghshe'] = df['title'].str.contains('نقشه')\n",
    "df['Contains_noori'] = df['title'].str.contains('نوری')\n",
    "df['Contains_material'] = df['title'].str.contains('متریال')\n",
    "df['Contains_noorgir'] = df['title'].str.contains('نورگیر')\n"
   ]
  },
  {
   "cell_type": "markdown",
   "metadata": {
    "id": "vuLN_bX60k7M"
   },
   "source": [
    "### **[Combining the results of \"balcony\", \"teras\" into \"balcony_total\"]**"
   ]
  },
  {
   "cell_type": "code",
   "execution_count": null,
   "metadata": {
    "id": "caXrB8d40d4d"
   },
   "outputs": [],
   "source": [
    "import numpy as np\n",
    "\n",
    "df['balcony_total'] = np.where((df['balcony'] == True) & (df['Contains_teras'] == True), True,\n",
    "                               np.where((df['balcony'] == True) & (df['Contains_teras'] == False), True,\n",
    "                                        np.where((df['balcony'] == False) & (df['Contains_teras'] == True), True,\n",
    "                                                 np.where((df['balcony'].isnull()) & (df['Contains_teras'] == True), True,\n",
    "                                                          np.where((df['balcony'].isnull()) & (df['Contains_teras'] == False), False, False)))))"
   ]
  },
  {
   "cell_type": "markdown",
   "metadata": {
    "id": "_ZAAhe_k0x9_"
   },
   "source": [
    "### **[Combining the results of \"noor\", \"noori\", and \"noorgir\" into \"noor_total\"]**"
   ]
  },
  {
   "cell_type": "code",
   "execution_count": null,
   "metadata": {
    "id": "eSg4ToUt0d7P"
   },
   "outputs": [],
   "source": [
    "df['noor_total'] = ((df['Contains_noor'] == True) & (df['Contains_noori'] == False) & (df['Contains_noorgir'] == False))|((df['Contains_noor'] == False) & (df['Contains_noori'] == True) & (df['Contains_noorgir'] == False))|((df['Contains_noor'] == False) & (df['Contains_noori'] == False) & (df['Contains_noorgir'] == True))|((df['Contains_noor'] == True) & (df['Contains_noori'] == True) & (df['Contains_noorgir'] == False))|((df['Contains_noor'] == True) & (df['Contains_noori'] == False) & (df['Contains_noorgir'] == True))|((df['Contains_noor'] == False) & (df['Contains_noori'] == True) & (df['Contains_noorgir'] == True))|((df['Contains_noor'] == True) & (df['Contains_noori'] == True) & (df['Contains_noorgir'] == True))\n",
    "\n",
    "\n"
   ]
  }
 ],
 "metadata": {
  "colab": {
   "provenance": []
  },
  "kernelspec": {
   "display_name": "Python 3 (ipykernel)",
   "language": "python",
   "name": "python3"
  },
  "language_info": {
   "codemirror_mode": {
    "name": "ipython",
    "version": 3
   },
   "file_extension": ".py",
   "mimetype": "text/x-python",
   "name": "python",
   "nbconvert_exporter": "python",
   "pygments_lexer": "ipython3",
   "version": "3.11.4"
  }
 },
 "nbformat": 4,
 "nbformat_minor": 4
}
