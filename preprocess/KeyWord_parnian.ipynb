{
  "nbformat": 4,
  "nbformat_minor": 0,
  "metadata": {
    "colab": {
      "provenance": []
    },
    "kernelspec": {
      "name": "python3",
      "display_name": "Python 3"
    },
    "language_info": {
      "name": "python"
    }
  },
  "cells": [
    {
      "cell_type": "markdown",
      "source": [
        "### **Look for keywords**"
      ],
      "metadata": {
        "id": "liUxWNp_0FyM"
      }
    },
    {
      "cell_type": "markdown",
      "source": [],
      "metadata": {
        "id": "JDF_bbnJ0TCm"
      }
    },
    {
      "cell_type": "code",
      "source": [
        "df['Contains_teras'] = df['title'].str.contains('تراس|بالکن', regex=True)\n",
        "df['Contains_komod'] = df['title'].str.contains('کمد')\n",
        "df['Contains_master'] = df['title'].str.contains('مستر')\n",
        "df['Contains_kabinet'] = df['title'].str.contains('کابینت')\n",
        "df['Contains_metro'] = df['title'].str.contains('مترو')\n",
        "df['Contains_vam'] = df['title'].str.contains('وام')\n",
        "df['Contains_moshaat'] = df['title'].str.contains('مشاعات')\n",
        "df['Contains_vahedi'] = df['title'].str.contains('واحدی')\n",
        "df['Contains_sanad'] = df['title'].str.contains('سند')\n",
        "df['Contains_noor'] = df['title'].str.contains('نور')\n",
        "df['Contains_salon'] = df['title'].str.contains('سالن')\n",
        "df['Contains_labi'] = df['title'].str.contains('لابی')\n",
        "df['Contains_naghshe'] = df['title'].str.contains('نقشه')\n",
        "df['Contains_noori'] = df['title'].str.contains('نوری')\n",
        "df['Contains_material'] = df['title'].str.contains('متریال')\n",
        "df['Contains_noorgir'] = df['title'].str.contains('نورگیر')\n"
      ],
      "metadata": {
        "id": "zof3Dg530WbS"
      },
      "execution_count": null,
      "outputs": []
    },
    {
      "cell_type": "markdown",
      "source": [
        "### **[Combining the results of \"balcony\", \"teras\" into \"balcony_total\"]**"
      ],
      "metadata": {
        "id": "vuLN_bX60k7M"
      }
    },
    {
      "cell_type": "code",
      "source": [
        "import numpy as np\n",
        "\n",
        "df['balcony_total'] = np.where((df['balcony'] == True) & (df['Contains_teras'] == True), True,\n",
        "                               np.where((df['balcony'] == True) & (df['Contains_teras'] == False), True,\n",
        "                                        np.where((df['balcony'] == False) & (df['Contains_teras'] == True), True,\n",
        "                                                 np.where((df['balcony'].isnull()) & (df['Contains_teras'] == True), True,\n",
        "                                                          np.where((df['balcony'].isnull()) & (df['Contains_teras'] == False), False, False)))))"
      ],
      "metadata": {
        "id": "caXrB8d40d4d"
      },
      "execution_count": null,
      "outputs": []
    },
    {
      "cell_type": "markdown",
      "source": [
        "### **[Combining the results of \"noor\", \"noori\", and \"noorgir\" into \"noor_total\"]**"
      ],
      "metadata": {
        "id": "_ZAAhe_k0x9_"
      }
    },
    {
      "cell_type": "code",
      "source": [
        "df['noor_total'] = ((df['Contains_noor'] == True) & (df['Contains_noori'] == False) & (df['Contains_noorgir'] == False))|((df['Contains_noor'] == False) & (df['Contains_noori'] == True) & (df['Contains_noorgir'] == False))|((df['Contains_noor'] == False) & (df['Contains_noori'] == False) & (df['Contains_noorgir'] == True))|((df['Contains_noor'] == True) & (df['Contains_noori'] == True) & (df['Contains_noorgir'] == False))|((df['Contains_noor'] == True) & (df['Contains_noori'] == False) & (df['Contains_noorgir'] == True))|((df['Contains_noor'] == False) & (df['Contains_noori'] == True) & (df['Contains_noorgir'] == True))|((df['Contains_noor'] == True) & (df['Contains_noori'] == True) & (df['Contains_noorgir'] == True))\n",
        "\n",
        "\n",
        ""
      ],
      "metadata": {
        "id": "eSg4ToUt0d7P"
      },
      "execution_count": null,
      "outputs": []
    }
  ]
}