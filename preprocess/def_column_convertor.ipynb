{
 "cells": [
  {
   "cell_type": "code",
   "execution_count": null,
   "id": "bf74e895-9e40-4fe7-aa80-781d531a45ab",
   "metadata": {},
   "outputs": [],
   "source": [
    "def column_convertor(name_of_column,n_cut,num):\n",
    "    # num here is for naming different new columns\n",
    "    # name_of_column must be in the cleaned_df columns\n",
    "    xt = cleaned_df.copy()\n",
    "    xt[f\"inrange_{num}\"] = pd.cut(xt[\"price_m2\"],n_cut)\n",
    "    classes = xt.groupby(name_of_column)[\"price_m2\"].mean().sort_values()\n",
    "    classes = pd.DataFrame(classes)\n",
    "    classes = classes.reset_index()\n",
    "    classes[\"CAT\"] = 0\n",
    "    for i in range(11):\n",
    "        classes.iloc[20*i: 20*(i+1), -1] = i\n",
    "    mapping_dict = classes.groupby(\"CAT\")[\"price_m2\"].mean().to_dict()\n",
    "    classes[\"actual_label\"] = classes[\"CAT\"].apply(lambda x: mapping_dict[x])\n",
    "    temp = classes[[name_of_column, \"actual_label\"]]\n",
    "    ultimate_mapping = temp.set_index(name_of_column).to_dict()[\"actual_label\"]\n",
    "    cleaned_df[f\"new_encoded_{num}\"] = cleaned_df[name_of_column].apply(lambda x: ultimate_mapping[x] if not pd.isna(x) else np.nan)\n",
    "    new_col = f\"new_encoded_{num}\"\n",
    "    return cleaned_df,new_col"
   ]
  }
 ],
 "metadata": {
  "kernelspec": {
   "display_name": "Python 3 (ipykernel)",
   "language": "python",
   "name": "python3"
  },
  "language_info": {
   "codemirror_mode": {
    "name": "ipython",
    "version": 3
   },
   "file_extension": ".py",
   "mimetype": "text/x-python",
   "name": "python",
   "nbconvert_exporter": "python",
   "pygments_lexer": "ipython3",
   "version": "3.10.12"
  }
 },
 "nbformat": 4,
 "nbformat_minor": 5
}
