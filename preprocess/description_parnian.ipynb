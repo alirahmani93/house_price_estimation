{
 "cells": [
  {
   "cell_type": "code",
   "execution_count": 2,
   "metadata": {
    "id": "mVzGqyY-oyPw"
   },
   "outputs": [],
   "source": [
    "import pandas as pd"
   ]
  },
  {
   "cell_type": "code",
   "execution_count": 4,
   "metadata": {
    "id": "_ZnD27Rmpn0C"
   },
   "outputs": [
    {
     "name": "stderr",
     "output_type": "stream",
     "text": [
      "/tmp/ipykernel_62260/180686459.py:1: DtypeWarning: Columns (10,11,12,13,16,17,55,56,58,68,69) have mixed types. Specify dtype option on import or set low_memory=False.\n",
      "  df = pd.read_csv('../data/Post-2023-11-13.csv')\n"
     ]
    }
   ],
   "source": [
    "df = pd.read_csv('../data/Post-2023-11-13.csv')"
   ]
  },
  {
   "cell_type": "code",
   "execution_count": 8,
   "metadata": {
    "colab": {
     "base_uri": "https://localhost:8080/",
     "height": 602
    },
    "id": "aTIzxPubpn2j",
    "outputId": "b8a33ce5-835a-438e-873f-7b24d2988a21"
   },
   "outputs": [
    {
     "data": {
      "text/plain": [
       "36916"
      ]
     },
     "execution_count": 8,
     "metadata": {},
     "output_type": "execute_result"
    }
   ],
   "source": [
    "df[df.columns[11]].isnull().sum() "
   ]
  },
  {
   "cell_type": "code",
   "execution_count": 9,
   "metadata": {
    "id": "br0iMjr9zMiD"
   },
   "outputs": [],
   "source": [
    "df_description = df['description']"
   ]
  },
  {
   "cell_type": "code",
   "execution_count": 10,
   "metadata": {
    "id": "aQak65pEzMlK"
   },
   "outputs": [],
   "source": [
    "df_description_dist = df_description.str.split('|', expand=True)"
   ]
  },
  {
   "cell_type": "code",
   "execution_count": 11,
   "metadata": {
    "id": "FFrg6sOSzMo4"
   },
   "outputs": [],
   "source": [
    "df_description_dist = df_description_dist.dropna(axis = 1)"
   ]
  },
  {
   "cell_type": "code",
   "execution_count": 12,
   "metadata": {
    "id": "sQF9qdLuC7JN"
   },
   "outputs": [],
   "source": [
    "df_description_dist = df_description_dist[[0, 2, 3]]"
   ]
  },
  {
   "cell_type": "code",
   "execution_count": 13,
   "metadata": {
    "id": "PbBSfN7mC7L1"
   },
   "outputs": [],
   "source": [
    "df_description_dist[2] = df_description_dist[2].str.replace('تهران،', ' ')"
   ]
  },
  {
   "cell_type": "code",
   "execution_count": 15,
   "metadata": {
    "colab": {
     "base_uri": "https://localhost:8080/",
     "height": 423
    },
    "id": "KHn5_vTEC7Ol",
    "outputId": "3f0e8319-165d-4614-e5eb-e038824ebd8f"
   },
   "outputs": [],
   "source": [
    "# df_description_dist"
   ]
  },
  {
   "cell_type": "code",
   "execution_count": 16,
   "metadata": {
    "colab": {
     "base_uri": "https://localhost:8080/"
    },
    "id": "SE_cO8CUzMsq",
    "outputId": "8987a20b-1d20-4406-a406-914bd2feb4db"
   },
   "outputs": [],
   "source": [
    "# Remove any numbers from the elements\n",
    "series = df_description_dist[0].str.replace(r'[\\d*]+', '', regex=True)\n"
   ]
  },
  {
   "cell_type": "code",
   "execution_count": 17,
   "metadata": {
    "id": "jtvGDU5ZE8bo"
   },
   "outputs": [],
   "source": [
    "# series.str.split(',')\n",
    "series1 = series.str.split(',', expand=True)[0]\n",
    "split_series = series1.str.split('|').apply(lambda x: [item.split('_') for item in x])"
   ]
  },
  {
   "cell_type": "code",
   "execution_count": 18,
   "metadata": {
    "id": "Ot9jx3_jGZvE"
   },
   "outputs": [],
   "source": [
    "test_series = pd.Series(split_series)"
   ]
  },
  {
   "cell_type": "code",
   "execution_count": 20,
   "metadata": {
    "colab": {
     "base_uri": "https://localhost:8080/"
    },
    "id": "usfzlxtnOy7D",
    "outputId": "53ce59bd-7bae-401e-c747-aff3583085b7"
   },
   "outputs": [],
   "source": [
    "# test_series"
   ]
  },
  {
   "cell_type": "code",
   "execution_count": 22,
   "metadata": {
    "colab": {
     "base_uri": "https://localhost:8080/"
    },
    "id": "ixEdksmjE8eN",
    "outputId": "2f8ac608-2845-451c-8b2d-f67871f12b2a"
   },
   "outputs": [],
   "source": [
    "# type(test_series[0])"
   ]
  },
  {
   "cell_type": "code",
   "execution_count": 24,
   "metadata": {
    "colab": {
     "base_uri": "https://localhost:8080/"
    },
    "id": "MQSdMCW4E8g6",
    "outputId": "33a6b862-3a6f-4879-c9a4-1b632a54c650"
   },
   "outputs": [],
   "source": [
    "my_list = test_series[0]\n",
    "values = ' '.join(str(x) for x in my_list)\n",
    "# print(values)\n"
   ]
  },
  {
   "cell_type": "code",
   "execution_count": 25,
   "metadata": {
    "id": "y5UudqgiE8jc"
   },
   "outputs": [],
   "source": [
    "# values1 = ' '.join(str(x) for x in values)\n",
    "# print(values1)\n"
   ]
  },
  {
   "cell_type": "code",
   "execution_count": 27,
   "metadata": {
    "colab": {
     "base_uri": "https://localhost:8080/"
    },
    "id": "JOVAYQwzOff4",
    "outputId": "50293bc8-2ace-432d-dfef-3c00e97378f0"
   },
   "outputs": [],
   "source": [
    "# len(values)"
   ]
  },
  {
   "cell_type": "code",
   "execution_count": 28,
   "metadata": {
    "id": "1Y6p6Qh6Ofin"
   },
   "outputs": [],
   "source": [
    "import pandas as pd\n",
    "\n",
    "# Assuming your Series is called 'my_series'\n",
    "my_series = test_series\n",
    "\n",
    "# Convert values to strings\n",
    "my_series = my_series.astype(str)\n",
    "\n",
    "# Splitting the values based on comma delimiter\n",
    "split_values = my_series.str.split(',', n=1)\n",
    "\n",
    "# Accessing the left and right values after splitting\n",
    "left_values = split_values.str[0].str.strip('[[')\n",
    "right_values = split_values.str[1].str.strip(']]')\n"
   ]
  },
  {
   "cell_type": "code",
   "execution_count": 32,
   "metadata": {
    "colab": {
     "base_uri": "https://localhost:8080/"
    },
    "id": "qIs7Oy7dQaM-",
    "outputId": "cda6781a-4ed2-4be5-98ac-40929694f48a"
   },
   "outputs": [],
   "source": [
    "# right_values"
   ]
  },
  {
   "cell_type": "code",
   "execution_count": 33,
   "metadata": {
    "colab": {
     "base_uri": "https://localhost:8080/"
    },
    "id": "QlkLIu18QaP7",
    "outputId": "0835b77d-3fbb-4782-93c2-8838a18a6b28"
   },
   "outputs": [],
   "source": [
    "# left_values"
   ]
  },
  {
   "cell_type": "code",
   "execution_count": 35,
   "metadata": {
    "colab": {
     "base_uri": "https://localhost:8080/"
    },
    "id": "zhMt5OUBoVOf",
    "outputId": "a4e23728-4831-4554-9de7-9ca2a221b80b"
   },
   "outputs": [],
   "source": [
    "\n",
    "# Remove symbols using regular expressions\n",
    "clean_series_right = right_values.str.replace(r\"[^\\w\\s]+\", \"\")\n",
    "\n",
    "# Remove leading and trailing whitespaces\n",
    "clean_series_right = clean_series_right.str.strip()\n",
    "\n",
    "# print(clean_series_right)"
   ]
  },
  {
   "cell_type": "code",
   "execution_count": 37,
   "metadata": {
    "colab": {
     "base_uri": "https://localhost:8080/"
    },
    "id": "L1TEV3XtoVQ8",
    "outputId": "4c8e8c05-4739-4e05-c875-08f147029bd3"
   },
   "outputs": [],
   "source": [
    "\n",
    "# Remove symbols using regular expressions\n",
    "clean_series_left = left_values.str.replace(r\"[^\\w\\s]+\", \"\")\n",
    "\n",
    "# Remove leading and trailing whitespaces\n",
    "clean_series_left = clean_series_left.str.strip()\n",
    "\n",
    "# print(clean_series_left)"
   ]
  },
  {
   "cell_type": "code",
   "execution_count": 38,
   "metadata": {
    "id": "ozycLkfzQaSP"
   },
   "outputs": [],
   "source": [
    "df1 = pd.DataFrame(clean_series_left)"
   ]
  },
  {
   "cell_type": "code",
   "execution_count": 39,
   "metadata": {
    "id": "Xbl1-XwzOflO"
   },
   "outputs": [],
   "source": [
    "df2 = pd.DataFrame(clean_series_right)"
   ]
  },
  {
   "cell_type": "code",
   "execution_count": 42,
   "metadata": {
    "colab": {
     "base_uri": "https://localhost:8080/",
     "height": 423
    },
    "id": "IyI6uRnnOfno",
    "outputId": "baca83bb-24ee-4c45-d058-29d5383fa3a2"
   },
   "outputs": [],
   "source": [
    "df3 = pd.concat([df1, df2.reindex(df1.index)], axis=1)\n",
    "# df3"
   ]
  },
  {
   "cell_type": "code",
   "execution_count": 43,
   "metadata": {
    "colab": {
     "base_uri": "https://localhost:8080/",
     "height": 597
    },
    "id": "mfKwWTgmnOrX",
    "outputId": "71012e76-dff5-46e0-ad05-5879163f7cc7"
   },
   "outputs": [],
   "source": [
    "df4 = pd.concat([df_description_dist, df3.reindex(df1.index)], axis=1)\n",
    "# df4"
   ]
  },
  {
   "cell_type": "code",
   "execution_count": 45,
   "metadata": {
    "colab": {
     "base_uri": "https://localhost:8080/",
     "height": 423
    },
    "id": "vYk3oOrdnOus",
    "outputId": "556918b0-ce17-4456-c453-19aa14a1fadc"
   },
   "outputs": [
    {
     "data": {
      "text/html": [
       "<div>\n",
       "<style scoped>\n",
       "    .dataframe tbody tr th:only-of-type {\n",
       "        vertical-align: middle;\n",
       "    }\n",
       "\n",
       "    .dataframe tbody tr th {\n",
       "        vertical-align: top;\n",
       "    }\n",
       "\n",
       "    .dataframe thead th {\n",
       "        text-align: right;\n",
       "    }\n",
       "</style>\n",
       "<table border=\"1\" class=\"dataframe\">\n",
       "  <thead>\n",
       "    <tr style=\"text-align: right;\">\n",
       "      <th></th>\n",
       "      <th>3</th>\n",
       "      <th>0</th>\n",
       "      <th>0</th>\n",
       "    </tr>\n",
       "  </thead>\n",
       "  <tbody>\n",
       "    <tr>\n",
       "      <th>0</th>\n",
       "      <td>خرید و فروش !!!۹۵متر ۲خواب الماس منطقه!!!\\n   ...</td>\n",
       "      <td>'آپارتمان  متر خواب الماس منطقه'</td>\n",
       "      <td>'سرمایه گذاری'</td>\n",
       "    </tr>\n",
       "    <tr>\n",
       "      <th>1</th>\n",
       "      <td>خرید و فروش ⚜️به نام خدا⚜️\\n⚜️دپارتمان املاک م...</td>\n",
       "      <td>'متر فول نوسازی شده، سند تکبرگ']]</td>\n",
       "      <td>NaN</td>\n",
       "    </tr>\n",
       "    <tr>\n",
       "      <th>2</th>\n",
       "      <td>خرید و فروش آپارتمان 57متر.تمیز\\nدارای پارکینگ...</td>\n",
       "      <td>'آپارتمان متر.پارکینک دار']]</td>\n",
       "      <td>NaN</td>\n",
       "    </tr>\n",
       "    <tr>\n",
       "      <th>3</th>\n",
       "      <td>خرید و فروش ۹۲ متر / ۲ خوابه \\n\\nطبقه ششم \\n\\n...</td>\n",
       "      <td>' متر '</td>\n",
       "      <td>'فول امکانات ', ' طبقه ششم'</td>\n",
       "    </tr>\n",
       "    <tr>\n",
       "      <th>4</th>\n",
       "      <td>خرید و فروش ✅️ ۱۵۰ متر  ۳ خواب \\n\\n✅️ فرعی دنج...</td>\n",
       "      <td>' متر مشاعات آبی فعال ونک']]</td>\n",
       "      <td>NaN</td>\n",
       "    </tr>\n",
       "    <tr>\n",
       "      <th>...</th>\n",
       "      <td>...</td>\n",
       "      <td>...</td>\n",
       "      <td>...</td>\n",
       "    </tr>\n",
       "    <tr>\n",
       "      <th>37943</th>\n",
       "      <td>خرید و فروش پروژه فاخر ومدرن  اپارتمان خوش نقش...</td>\n",
       "      <td>'آپارتمان دوخواب'</td>\n",
       "      <td>'غرق نور', 'وام'</td>\n",
       "    </tr>\n",
       "    <tr>\n",
       "      <th>37944</th>\n",
       "      <td>خرید و فروش ✅سالن مربع و خوش چیدمان \\n✅اتاق غر...</td>\n",
       "      <td>'متر'</td>\n",
       "      <td>'خوش نقشه', 'سازمان بزنامه'</td>\n",
       "    </tr>\n",
       "    <tr>\n",
       "      <th>37945</th>\n",
       "      <td>خرید و فروش بنام خدا \\n\\n         اعتمادشما اع...</td>\n",
       "      <td>'متر'</td>\n",
       "      <td>'کلیدنخورده', 'نوساز خام', 'اندیشه فازیک'</td>\n",
       "    </tr>\n",
       "    <tr>\n",
       "      <th>37946</th>\n",
       "      <td>خرید و فروش لطفا املاک تماس نگیرد\\nآپارتمان تک...</td>\n",
       "      <td>'آپارتمان یک خوابه  متر']]</td>\n",
       "      <td>NaN</td>\n",
       "    </tr>\n",
       "    <tr>\n",
       "      <th>37947</th>\n",
       "      <td>خرید و فروش درود بر شما\\n۱۱۰۰متر ویلای دوبلکس ...</td>\n",
       "      <td>'متر ویلای نوساز خوارزم شهرک غرب']]</td>\n",
       "      <td>NaN</td>\n",
       "    </tr>\n",
       "  </tbody>\n",
       "</table>\n",
       "<p>37948 rows × 3 columns</p>\n",
       "</div>"
      ],
      "text/plain": [
       "                                                       3  \\\n",
       "0      خرید و فروش !!!۹۵متر ۲خواب الماس منطقه!!!\\n   ...   \n",
       "1      خرید و فروش ⚜️به نام خدا⚜️\\n⚜️دپارتمان املاک م...   \n",
       "2      خرید و فروش آپارتمان 57متر.تمیز\\nدارای پارکینگ...   \n",
       "3      خرید و فروش ۹۲ متر / ۲ خوابه \\n\\nطبقه ششم \\n\\n...   \n",
       "4      خرید و فروش ✅️ ۱۵۰ متر  ۳ خواب \\n\\n✅️ فرعی دنج...   \n",
       "...                                                  ...   \n",
       "37943  خرید و فروش پروژه فاخر ومدرن  اپارتمان خوش نقش...   \n",
       "37944  خرید و فروش ✅سالن مربع و خوش چیدمان \\n✅اتاق غر...   \n",
       "37945  خرید و فروش بنام خدا \\n\\n         اعتمادشما اع...   \n",
       "37946  خرید و فروش لطفا املاک تماس نگیرد\\nآپارتمان تک...   \n",
       "37947  خرید و فروش درود بر شما\\n۱۱۰۰متر ویلای دوبلکس ...   \n",
       "\n",
       "                                         0  \\\n",
       "0         'آپارتمان  متر خواب الماس منطقه'   \n",
       "1        'متر فول نوسازی شده، سند تکبرگ']]   \n",
       "2             'آپارتمان متر.پارکینک دار']]   \n",
       "3                                  ' متر '   \n",
       "4             ' متر مشاعات آبی فعال ونک']]   \n",
       "...                                    ...   \n",
       "37943                    'آپارتمان دوخواب'   \n",
       "37944                                'متر'   \n",
       "37945                                'متر'   \n",
       "37946           'آپارتمان یک خوابه  متر']]   \n",
       "37947  'متر ویلای نوساز خوارزم شهرک غرب']]   \n",
       "\n",
       "                                               0  \n",
       "0                                 'سرمایه گذاری'  \n",
       "1                                            NaN  \n",
       "2                                            NaN  \n",
       "3                    'فول امکانات ', ' طبقه ششم'  \n",
       "4                                            NaN  \n",
       "...                                          ...  \n",
       "37943                           'غرق نور', 'وام'  \n",
       "37944                'خوش نقشه', 'سازمان بزنامه'  \n",
       "37945  'کلیدنخورده', 'نوساز خام', 'اندیشه فازیک'  \n",
       "37946                                        NaN  \n",
       "37947                                        NaN  \n",
       "\n",
       "[37948 rows x 3 columns]"
      ]
     },
     "execution_count": 45,
     "metadata": {},
     "output_type": "execute_result"
    }
   ],
   "source": [
    "df4.iloc[ : , 2 :]"
   ]
  },
  {
   "cell_type": "markdown",
   "metadata": {
    "id": "rOdVV1X9q6vy"
   },
   "source": [
    "&&&&&&&&&&&&&&&&&&&&&&&&&&&&&&&&&&&&&&&&&&&&&&&&&&&&&&&&&&&&&&&&&&&&&&&&&&&&&&&&"
   ]
  },
  {
   "cell_type": "code",
   "execution_count": 46,
   "metadata": {
    "id": "7wyl-RqSnOxg"
   },
   "outputs": [],
   "source": [
    "# Remove any numbers from the elements\n",
    "series3 = df_description_dist[3].str.replace(r'[\\d*]+', '', regex=True)"
   ]
  },
  {
   "cell_type": "code",
   "execution_count": 51,
   "metadata": {
    "colab": {
     "base_uri": "https://localhost:8080/"
    },
    "id": "sluirwy_nO0k",
    "outputId": "9a226ec6-eafc-455a-9ec8-268c9c67a4df"
   },
   "outputs": [],
   "source": [
    "# series3"
   ]
  },
  {
   "cell_type": "code",
   "execution_count": 52,
   "metadata": {
    "id": "KHrix18TrJBz"
   },
   "outputs": [],
   "source": [
    "# series.str.split(',')\n",
    "series33 = series3.str.split(',', expand=True)[0]\n",
    "split_series3 = series33.str.split('\\n').apply(lambda x: [item.split('_') for item in x])"
   ]
  },
  {
   "cell_type": "code",
   "execution_count": 53,
   "metadata": {
    "colab": {
     "base_uri": "https://localhost:8080/"
    },
    "id": "pWEHzYClrJEs",
    "outputId": "43f73464-2ac5-4c7a-b446-49e95c50ebc9"
   },
   "outputs": [],
   "source": [
    "# split_series3"
   ]
  },
  {
   "cell_type": "code",
   "execution_count": 54,
   "metadata": {
    "id": "RjCWV6hSrJHk"
   },
   "outputs": [],
   "source": [
    "test_series3 = pd.Series(split_series3)"
   ]
  },
  {
   "cell_type": "code",
   "execution_count": 55,
   "metadata": {
    "id": "wk-4ZXPPrJKi"
   },
   "outputs": [],
   "source": [
    "import pandas as pd\n",
    "\n",
    "# Assuming your Series is called 'my_series'\n",
    "my_series3 = test_series3\n",
    "\n",
    "# Convert values to strings\n",
    "my_series3 = my_series3.astype(str)\n",
    "\n",
    "# Splitting the values based on comma delimiter\n",
    "split_values3 = my_series3.str.split(',', n=1)\n",
    "\n",
    "# Accessing the left and right values after splitting\n",
    "left_values3 = split_values3.str[0].str.strip('[[')\n",
    "right_values3 = split_values3.str[1].str.strip(']]')\n",
    "\n",
    "# Displaying the results\n",
    "# print(left_values)\n",
    "# print(right_values)"
   ]
  },
  {
   "cell_type": "code",
   "execution_count": 57,
   "metadata": {
    "colab": {
     "base_uri": "https://localhost:8080/"
    },
    "id": "l-f1DwNXrJNX",
    "outputId": "19dbbdd8-2c54-491f-baa8-bf83e08a856e"
   },
   "outputs": [],
   "source": [
    "# right_values3"
   ]
  },
  {
   "cell_type": "code",
   "execution_count": 59,
   "metadata": {
    "colab": {
     "base_uri": "https://localhost:8080/"
    },
    "id": "SDnk_yLirJQr",
    "outputId": "f689487c-d6dd-4a1a-9311-9f529eed0cbb"
   },
   "outputs": [],
   "source": [
    "\n",
    "# Remove symbols using regular expressions\n",
    "clean_series_right3 = right_values3.str.replace(r\"[^\\w\\s]+\", \"\")\n",
    "\n",
    "# Remove leading and trailing whitespaces\n",
    "clean_series_right3 = clean_series_right3.str.strip()\n",
    "\n",
    "# print(clean_series_right3)"
   ]
  },
  {
   "cell_type": "code",
   "execution_count": 61,
   "metadata": {
    "colab": {
     "base_uri": "https://localhost:8080/"
    },
    "id": "dz2gAn19r_pk",
    "outputId": "188db190-0ce9-469c-b1a3-8f6d999200fc"
   },
   "outputs": [],
   "source": [
    "\n",
    "# Remove symbols using regular expressions\n",
    "clean_series_left3 = left_values3.str.replace(r\"[^\\w\\s]+\", \"\")\n",
    "\n",
    "# Remove leading and trailing whitespaces\n",
    "clean_series_left3 = clean_series_left3.str.strip()\n",
    "\n",
    "# print(clean_series_left3)"
   ]
  },
  {
   "cell_type": "code",
   "execution_count": 62,
   "metadata": {
    "id": "VjhBsCkzr_sj"
   },
   "outputs": [],
   "source": [
    "df13 = pd.DataFrame(clean_series_left3)"
   ]
  },
  {
   "cell_type": "code",
   "execution_count": 63,
   "metadata": {
    "id": "OJdEfowPr_vY"
   },
   "outputs": [],
   "source": [
    "df23 = pd.DataFrame(clean_series_right3)"
   ]
  },
  {
   "cell_type": "code",
   "execution_count": 65,
   "metadata": {
    "colab": {
     "base_uri": "https://localhost:8080/",
     "height": 423
    },
    "id": "hjjoqOj7r_yN",
    "outputId": "62948839-2427-4b67-90f2-87e47c0bb1ca"
   },
   "outputs": [],
   "source": [
    "df33 = pd.concat([df13, df23.reindex(df1.index)], axis=1)\n",
    "# df33"
   ]
  },
  {
   "cell_type": "code",
   "execution_count": 88,
   "metadata": {
    "colab": {
     "base_uri": "https://localhost:8080/",
     "height": 770
    },
    "id": "D1EDoL_Sr_1V",
    "outputId": "3e1f6cc3-6e81-4fde-8177-8789d65acdd7"
   },
   "outputs": [],
   "source": [
    "df5 = pd.concat([df4, df33.reindex(df1.index)], axis=1)\n",
    "# df5"
   ]
  },
  {
   "cell_type": "code",
   "execution_count": 92,
   "metadata": {
    "id": "5izOn0Ngs0xD"
   },
   "outputs": [],
   "source": [
    "# df5.iloc[ : , 3 :].columns\n",
    "df_main = df5.iloc[ : , 3 :].rename(columns={0: 'Col1', 0: 'Col2', 0: 'Col3', 0: 'Col4'})\n"
   ]
  },
  {
   "cell_type": "code",
   "execution_count": 94,
   "metadata": {
    "colab": {
     "base_uri": "https://localhost:8080/"
    },
    "id": "sqc-bBGbtkGI",
    "outputId": "68b2013c-796d-483b-dee4-b1b16f23b86b"
   },
   "outputs": [],
   "source": [
    "x = pd.Series(df_main.iloc[: , 0])\n",
    "x1 = x.str.split(' ')\n",
    "# x1"
   ]
  },
  {
   "cell_type": "code",
   "execution_count": 95,
   "metadata": {
    "id": "z3OuCSyNtkIE"
   },
   "outputs": [],
   "source": [
    "list_values = []\n",
    "for i in range(len(x1)):\n",
    "  for j in range(len(x1[i])):\n",
    "    list_values.append(x1[i][j])"
   ]
  },
  {
   "cell_type": "code",
   "execution_count": 96,
   "metadata": {
    "colab": {
     "base_uri": "https://localhost:8080/"
    },
    "id": "FXr7ohQotkKt",
    "outputId": "993ad42b-4742-4001-9bda-54efbaff8969"
   },
   "outputs": [],
   "source": [
    "# list_values"
   ]
  },
  {
   "cell_type": "code",
   "execution_count": 97,
   "metadata": {
    "colab": {
     "base_uri": "https://localhost:8080/"
    },
    "id": "bZICiPCutkNm",
    "outputId": "4df9090f-038a-4231-d090-88f2d3590acd"
   },
   "outputs": [],
   "source": [
    "from collections import Counter\n",
    "# Count the occurrences of each value in the list\n",
    "counter = Counter(list_values)\n",
    "\n",
    "# Find the most common values and their counts\n",
    "most_common = counter.most_common()\n",
    "\n",
    "# Print the values that are repeated more\n",
    "# for value, count in most_common:\n",
    "#     if count > 1:\n",
    "#         print(f\"{value} , {count} .\")\n"
   ]
  },
  {
   "cell_type": "code",
   "execution_count": 98,
   "metadata": {
    "colab": {
     "base_uri": "https://localhost:8080/"
    },
    "id": "vV_VSbKP1d0_",
    "outputId": "74c321a7-9968-426e-f736-e5584b670a9a"
   },
   "outputs": [
    {
     "data": {
      "text/plain": [
       "Index(['Col4', 'Col4', 'Col4', 'Col4'], dtype='object')"
      ]
     },
     "execution_count": 98,
     "metadata": {},
     "output_type": "execute_result"
    }
   ],
   "source": [
    "df_main.columns"
   ]
  },
  {
   "cell_type": "code",
   "execution_count": 99,
   "metadata": {
    "colab": {
     "base_uri": "https://localhost:8080/"
    },
    "id": "239vdT8d1scz",
    "outputId": "ecf07939-985c-433d-9fcd-dc85de68eb4b"
   },
   "outputs": [
    {
     "data": {
      "text/plain": [
       "0           'آپارتمان  متر خواب الماس منطقه'\n",
       "1          'متر فول نوسازی شده، سند تکبرگ']]\n",
       "2               'آپارتمان متر.پارکینک دار']]\n",
       "3                                    ' متر '\n",
       "4               ' متر مشاعات آبی فعال ونک']]\n",
       "                        ...                 \n",
       "37943                      'آپارتمان دوخواب'\n",
       "37944                                  'متر'\n",
       "37945                                  'متر'\n",
       "37946             'آپارتمان یک خوابه  متر']]\n",
       "37947    'متر ویلای نوساز خوارزم شهرک غرب']]\n",
       "Name: Col4, Length: 37948, dtype: object"
      ]
     },
     "execution_count": 99,
     "metadata": {},
     "output_type": "execute_result"
    }
   ],
   "source": [
    "df_main.iloc[:,0]"
   ]
  },
  {
   "cell_type": "code",
   "execution_count": 106,
   "metadata": {},
   "outputs": [
    {
     "data": {
      "text/plain": [
       "array([\"'آپارتمان\", 'متر', 'خواب', ..., 'تن', \"'بصورت\", \"،BRAND']]\"],\n",
       "      dtype=object)"
      ]
     },
     "execution_count": 106,
     "metadata": {},
     "output_type": "execute_result"
    }
   ],
   "source": [
    "df_main.iloc[:,0].str.split().explode().unique()"
   ]
  },
  {
   "cell_type": "code",
   "execution_count": 101,
   "metadata": {
    "colab": {
     "base_uri": "https://localhost:8080/",
     "height": 1000
    },
    "id": "G-wtoQfH08yo",
    "outputId": "6eac653e-e89b-4d35-ca58-c12eee3eb112"
   },
   "outputs": [
    {
     "ename": "error",
     "evalue": "missing ), unterminated subpattern at position 0",
     "output_type": "error",
     "traceback": [
      "\u001b[0;31m---------------------------------------------------------------------------\u001b[0m",
      "\u001b[0;31merror\u001b[0m                                     Traceback (most recent call last)",
      "Cell \u001b[0;32mIn[101], line 6\u001b[0m\n\u001b[1;32m      4\u001b[0m \u001b[38;5;66;03m# Create new columns\u001b[39;00m\n\u001b[1;32m      5\u001b[0m \u001b[38;5;28;01mfor\u001b[39;00m word \u001b[38;5;129;01min\u001b[39;00m df_main\u001b[38;5;241m.\u001b[39miloc[:,\u001b[38;5;241m0\u001b[39m]\u001b[38;5;241m.\u001b[39mstr\u001b[38;5;241m.\u001b[39msplit()\u001b[38;5;241m.\u001b[39mexplode()\u001b[38;5;241m.\u001b[39munique():\n\u001b[0;32m----> 6\u001b[0m     df_main[\u001b[38;5;28mstr\u001b[39m(word)] \u001b[38;5;241m=\u001b[39m \u001b[43mdf_main\u001b[49m\u001b[38;5;241;43m.\u001b[39;49m\u001b[43miloc\u001b[49m\u001b[43m[\u001b[49m\u001b[43m:\u001b[49m\u001b[43m,\u001b[49m\u001b[38;5;241;43m0\u001b[39;49m\u001b[43m]\u001b[49m\u001b[38;5;241;43m.\u001b[39;49m\u001b[43mstr\u001b[49m\u001b[38;5;241;43m.\u001b[39;49m\u001b[43mcontains\u001b[49m\u001b[43m(\u001b[49m\u001b[38;5;28;43mstr\u001b[39;49m\u001b[43m(\u001b[49m\u001b[43mword\u001b[49m\u001b[43m)\u001b[49m\u001b[43m)\u001b[49m\n\u001b[1;32m      8\u001b[0m df_main\n",
      "File \u001b[0;32m~/work/envs/ML/lib/python3.11/site-packages/pandas/core/strings/accessor.py:129\u001b[0m, in \u001b[0;36mforbid_nonstring_types.<locals>._forbid_nonstring_types.<locals>.wrapper\u001b[0;34m(self, *args, **kwargs)\u001b[0m\n\u001b[1;32m    124\u001b[0m     msg \u001b[38;5;241m=\u001b[39m (\n\u001b[1;32m    125\u001b[0m         \u001b[38;5;124mf\u001b[39m\u001b[38;5;124m\"\u001b[39m\u001b[38;5;124mCannot use .str.\u001b[39m\u001b[38;5;132;01m{\u001b[39;00mfunc_name\u001b[38;5;132;01m}\u001b[39;00m\u001b[38;5;124m with values of \u001b[39m\u001b[38;5;124m\"\u001b[39m\n\u001b[1;32m    126\u001b[0m         \u001b[38;5;124mf\u001b[39m\u001b[38;5;124m\"\u001b[39m\u001b[38;5;124minferred dtype \u001b[39m\u001b[38;5;124m'\u001b[39m\u001b[38;5;132;01m{\u001b[39;00m\u001b[38;5;28mself\u001b[39m\u001b[38;5;241m.\u001b[39m_inferred_dtype\u001b[38;5;132;01m}\u001b[39;00m\u001b[38;5;124m'\u001b[39m\u001b[38;5;124m.\u001b[39m\u001b[38;5;124m\"\u001b[39m\n\u001b[1;32m    127\u001b[0m     )\n\u001b[1;32m    128\u001b[0m     \u001b[38;5;28;01mraise\u001b[39;00m \u001b[38;5;167;01mTypeError\u001b[39;00m(msg)\n\u001b[0;32m--> 129\u001b[0m \u001b[38;5;28;01mreturn\u001b[39;00m \u001b[43mfunc\u001b[49m\u001b[43m(\u001b[49m\u001b[38;5;28;43mself\u001b[39;49m\u001b[43m,\u001b[49m\u001b[43m \u001b[49m\u001b[38;5;241;43m*\u001b[39;49m\u001b[43margs\u001b[49m\u001b[43m,\u001b[49m\u001b[43m \u001b[49m\u001b[38;5;241;43m*\u001b[39;49m\u001b[38;5;241;43m*\u001b[39;49m\u001b[43mkwargs\u001b[49m\u001b[43m)\u001b[49m\n",
      "File \u001b[0;32m~/work/envs/ML/lib/python3.11/site-packages/pandas/core/strings/accessor.py:1281\u001b[0m, in \u001b[0;36mStringMethods.contains\u001b[0;34m(self, pat, case, flags, na, regex)\u001b[0m\n\u001b[1;32m   1154\u001b[0m \u001b[38;5;129m@forbid_nonstring_types\u001b[39m([\u001b[38;5;124m\"\u001b[39m\u001b[38;5;124mbytes\u001b[39m\u001b[38;5;124m\"\u001b[39m])\n\u001b[1;32m   1155\u001b[0m \u001b[38;5;28;01mdef\u001b[39;00m \u001b[38;5;21mcontains\u001b[39m(\n\u001b[1;32m   1156\u001b[0m     \u001b[38;5;28mself\u001b[39m, pat, case: \u001b[38;5;28mbool\u001b[39m \u001b[38;5;241m=\u001b[39m \u001b[38;5;28;01mTrue\u001b[39;00m, flags: \u001b[38;5;28mint\u001b[39m \u001b[38;5;241m=\u001b[39m \u001b[38;5;241m0\u001b[39m, na\u001b[38;5;241m=\u001b[39m\u001b[38;5;28;01mNone\u001b[39;00m, regex: \u001b[38;5;28mbool\u001b[39m \u001b[38;5;241m=\u001b[39m \u001b[38;5;28;01mTrue\u001b[39;00m\n\u001b[1;32m   1157\u001b[0m ):\n\u001b[1;32m   1158\u001b[0m \u001b[38;5;250m    \u001b[39m\u001b[38;5;124mr\u001b[39m\u001b[38;5;124;03m\"\"\"\u001b[39;00m\n\u001b[1;32m   1159\u001b[0m \u001b[38;5;124;03m    Test if pattern or regex is contained within a string of a Series or Index.\u001b[39;00m\n\u001b[1;32m   1160\u001b[0m \n\u001b[0;32m   (...)\u001b[0m\n\u001b[1;32m   1279\u001b[0m \u001b[38;5;124;03m    dtype: bool\u001b[39;00m\n\u001b[1;32m   1280\u001b[0m \u001b[38;5;124;03m    \"\"\"\u001b[39;00m\n\u001b[0;32m-> 1281\u001b[0m     \u001b[38;5;28;01mif\u001b[39;00m regex \u001b[38;5;129;01mand\u001b[39;00m \u001b[43mre\u001b[49m\u001b[38;5;241;43m.\u001b[39;49m\u001b[43mcompile\u001b[49m\u001b[43m(\u001b[49m\u001b[43mpat\u001b[49m\u001b[43m)\u001b[49m\u001b[38;5;241m.\u001b[39mgroups:\n\u001b[1;32m   1282\u001b[0m         warnings\u001b[38;5;241m.\u001b[39mwarn(\n\u001b[1;32m   1283\u001b[0m             \u001b[38;5;124m\"\u001b[39m\u001b[38;5;124mThis pattern is interpreted as a regular expression, and has \u001b[39m\u001b[38;5;124m\"\u001b[39m\n\u001b[1;32m   1284\u001b[0m             \u001b[38;5;124m\"\u001b[39m\u001b[38;5;124mmatch groups. To actually get the groups, use str.extract.\u001b[39m\u001b[38;5;124m\"\u001b[39m,\n\u001b[1;32m   1285\u001b[0m             \u001b[38;5;167;01mUserWarning\u001b[39;00m,\n\u001b[1;32m   1286\u001b[0m             stacklevel\u001b[38;5;241m=\u001b[39mfind_stack_level(),\n\u001b[1;32m   1287\u001b[0m         )\n\u001b[1;32m   1289\u001b[0m     result \u001b[38;5;241m=\u001b[39m \u001b[38;5;28mself\u001b[39m\u001b[38;5;241m.\u001b[39m_data\u001b[38;5;241m.\u001b[39marray\u001b[38;5;241m.\u001b[39m_str_contains(pat, case, flags, na, regex)\n",
      "File \u001b[0;32m/usr/lib/python3.11/re/__init__.py:227\u001b[0m, in \u001b[0;36mcompile\u001b[0;34m(pattern, flags)\u001b[0m\n\u001b[1;32m    225\u001b[0m \u001b[38;5;28;01mdef\u001b[39;00m \u001b[38;5;21mcompile\u001b[39m(pattern, flags\u001b[38;5;241m=\u001b[39m\u001b[38;5;241m0\u001b[39m):\n\u001b[1;32m    226\u001b[0m     \u001b[38;5;124m\"\u001b[39m\u001b[38;5;124mCompile a regular expression pattern, returning a Pattern object.\u001b[39m\u001b[38;5;124m\"\u001b[39m\n\u001b[0;32m--> 227\u001b[0m     \u001b[38;5;28;01mreturn\u001b[39;00m \u001b[43m_compile\u001b[49m\u001b[43m(\u001b[49m\u001b[43mpattern\u001b[49m\u001b[43m,\u001b[49m\u001b[43m \u001b[49m\u001b[43mflags\u001b[49m\u001b[43m)\u001b[49m\n",
      "File \u001b[0;32m/usr/lib/python3.11/re/__init__.py:294\u001b[0m, in \u001b[0;36m_compile\u001b[0;34m(pattern, flags)\u001b[0m\n\u001b[1;32m    288\u001b[0m     \u001b[38;5;28;01mimport\u001b[39;00m \u001b[38;5;21;01mwarnings\u001b[39;00m\n\u001b[1;32m    289\u001b[0m     warnings\u001b[38;5;241m.\u001b[39mwarn(\u001b[38;5;124m\"\u001b[39m\u001b[38;5;124mThe re.TEMPLATE/re.T flag is deprecated \u001b[39m\u001b[38;5;124m\"\u001b[39m\n\u001b[1;32m    290\u001b[0m               \u001b[38;5;124m\"\u001b[39m\u001b[38;5;124mas it is an undocumented flag \u001b[39m\u001b[38;5;124m\"\u001b[39m\n\u001b[1;32m    291\u001b[0m               \u001b[38;5;124m\"\u001b[39m\u001b[38;5;124mwithout an obvious purpose. \u001b[39m\u001b[38;5;124m\"\u001b[39m\n\u001b[1;32m    292\u001b[0m               \u001b[38;5;124m\"\u001b[39m\u001b[38;5;124mDon\u001b[39m\u001b[38;5;124m'\u001b[39m\u001b[38;5;124mt use it.\u001b[39m\u001b[38;5;124m\"\u001b[39m,\n\u001b[1;32m    293\u001b[0m               \u001b[38;5;167;01mDeprecationWarning\u001b[39;00m)\n\u001b[0;32m--> 294\u001b[0m p \u001b[38;5;241m=\u001b[39m \u001b[43m_compiler\u001b[49m\u001b[38;5;241;43m.\u001b[39;49m\u001b[43mcompile\u001b[49m\u001b[43m(\u001b[49m\u001b[43mpattern\u001b[49m\u001b[43m,\u001b[49m\u001b[43m \u001b[49m\u001b[43mflags\u001b[49m\u001b[43m)\u001b[49m\n\u001b[1;32m    295\u001b[0m \u001b[38;5;28;01mif\u001b[39;00m \u001b[38;5;129;01mnot\u001b[39;00m (flags \u001b[38;5;241m&\u001b[39m DEBUG):\n\u001b[1;32m    296\u001b[0m     \u001b[38;5;28;01mif\u001b[39;00m \u001b[38;5;28mlen\u001b[39m(_cache) \u001b[38;5;241m>\u001b[39m\u001b[38;5;241m=\u001b[39m _MAXCACHE:\n\u001b[1;32m    297\u001b[0m         \u001b[38;5;66;03m# Drop the oldest item\u001b[39;00m\n",
      "File \u001b[0;32m/usr/lib/python3.11/re/_compiler.py:743\u001b[0m, in \u001b[0;36mcompile\u001b[0;34m(p, flags)\u001b[0m\n\u001b[1;32m    741\u001b[0m \u001b[38;5;28;01mif\u001b[39;00m isstring(p):\n\u001b[1;32m    742\u001b[0m     pattern \u001b[38;5;241m=\u001b[39m p\n\u001b[0;32m--> 743\u001b[0m     p \u001b[38;5;241m=\u001b[39m \u001b[43m_parser\u001b[49m\u001b[38;5;241;43m.\u001b[39;49m\u001b[43mparse\u001b[49m\u001b[43m(\u001b[49m\u001b[43mp\u001b[49m\u001b[43m,\u001b[49m\u001b[43m \u001b[49m\u001b[43mflags\u001b[49m\u001b[43m)\u001b[49m\n\u001b[1;32m    744\u001b[0m \u001b[38;5;28;01melse\u001b[39;00m:\n\u001b[1;32m    745\u001b[0m     pattern \u001b[38;5;241m=\u001b[39m \u001b[38;5;28;01mNone\u001b[39;00m\n",
      "File \u001b[0;32m/usr/lib/python3.11/re/_parser.py:980\u001b[0m, in \u001b[0;36mparse\u001b[0;34m(str, flags, state)\u001b[0m\n\u001b[1;32m    977\u001b[0m state\u001b[38;5;241m.\u001b[39mflags \u001b[38;5;241m=\u001b[39m flags\n\u001b[1;32m    978\u001b[0m state\u001b[38;5;241m.\u001b[39mstr \u001b[38;5;241m=\u001b[39m \u001b[38;5;28mstr\u001b[39m\n\u001b[0;32m--> 980\u001b[0m p \u001b[38;5;241m=\u001b[39m \u001b[43m_parse_sub\u001b[49m\u001b[43m(\u001b[49m\u001b[43msource\u001b[49m\u001b[43m,\u001b[49m\u001b[43m \u001b[49m\u001b[43mstate\u001b[49m\u001b[43m,\u001b[49m\u001b[43m \u001b[49m\u001b[43mflags\u001b[49m\u001b[43m \u001b[49m\u001b[38;5;241;43m&\u001b[39;49m\u001b[43m \u001b[49m\u001b[43mSRE_FLAG_VERBOSE\u001b[49m\u001b[43m,\u001b[49m\u001b[43m \u001b[49m\u001b[38;5;241;43m0\u001b[39;49m\u001b[43m)\u001b[49m\n\u001b[1;32m    981\u001b[0m p\u001b[38;5;241m.\u001b[39mstate\u001b[38;5;241m.\u001b[39mflags \u001b[38;5;241m=\u001b[39m fix_flags(\u001b[38;5;28mstr\u001b[39m, p\u001b[38;5;241m.\u001b[39mstate\u001b[38;5;241m.\u001b[39mflags)\n\u001b[1;32m    983\u001b[0m \u001b[38;5;28;01mif\u001b[39;00m source\u001b[38;5;241m.\u001b[39mnext \u001b[38;5;129;01mis\u001b[39;00m \u001b[38;5;129;01mnot\u001b[39;00m \u001b[38;5;28;01mNone\u001b[39;00m:\n",
      "File \u001b[0;32m/usr/lib/python3.11/re/_parser.py:455\u001b[0m, in \u001b[0;36m_parse_sub\u001b[0;34m(source, state, verbose, nested)\u001b[0m\n\u001b[1;32m    453\u001b[0m start \u001b[38;5;241m=\u001b[39m source\u001b[38;5;241m.\u001b[39mtell()\n\u001b[1;32m    454\u001b[0m \u001b[38;5;28;01mwhile\u001b[39;00m \u001b[38;5;28;01mTrue\u001b[39;00m:\n\u001b[0;32m--> 455\u001b[0m     itemsappend(\u001b[43m_parse\u001b[49m\u001b[43m(\u001b[49m\u001b[43msource\u001b[49m\u001b[43m,\u001b[49m\u001b[43m \u001b[49m\u001b[43mstate\u001b[49m\u001b[43m,\u001b[49m\u001b[43m \u001b[49m\u001b[43mverbose\u001b[49m\u001b[43m,\u001b[49m\u001b[43m \u001b[49m\u001b[43mnested\u001b[49m\u001b[43m \u001b[49m\u001b[38;5;241;43m+\u001b[39;49m\u001b[43m \u001b[49m\u001b[38;5;241;43m1\u001b[39;49m\u001b[43m,\u001b[49m\n\u001b[1;32m    456\u001b[0m \u001b[43m                       \u001b[49m\u001b[38;5;129;43;01mnot\u001b[39;49;00m\u001b[43m \u001b[49m\u001b[43mnested\u001b[49m\u001b[43m \u001b[49m\u001b[38;5;129;43;01mand\u001b[39;49;00m\u001b[43m \u001b[49m\u001b[38;5;129;43;01mnot\u001b[39;49;00m\u001b[43m \u001b[49m\u001b[43mitems\u001b[49m\u001b[43m)\u001b[49m)\n\u001b[1;32m    457\u001b[0m     \u001b[38;5;28;01mif\u001b[39;00m \u001b[38;5;129;01mnot\u001b[39;00m sourcematch(\u001b[38;5;124m\"\u001b[39m\u001b[38;5;124m|\u001b[39m\u001b[38;5;124m\"\u001b[39m):\n\u001b[1;32m    458\u001b[0m         \u001b[38;5;28;01mbreak\u001b[39;00m\n",
      "File \u001b[0;32m/usr/lib/python3.11/re/_parser.py:865\u001b[0m, in \u001b[0;36m_parse\u001b[0;34m(source, state, verbose, nested, first)\u001b[0m\n\u001b[1;32m    863\u001b[0m p \u001b[38;5;241m=\u001b[39m _parse_sub(source, state, sub_verbose, nested \u001b[38;5;241m+\u001b[39m \u001b[38;5;241m1\u001b[39m)\n\u001b[1;32m    864\u001b[0m \u001b[38;5;28;01mif\u001b[39;00m \u001b[38;5;129;01mnot\u001b[39;00m source\u001b[38;5;241m.\u001b[39mmatch(\u001b[38;5;124m\"\u001b[39m\u001b[38;5;124m)\u001b[39m\u001b[38;5;124m\"\u001b[39m):\n\u001b[0;32m--> 865\u001b[0m     \u001b[38;5;28;01mraise\u001b[39;00m source\u001b[38;5;241m.\u001b[39merror(\u001b[38;5;124m\"\u001b[39m\u001b[38;5;124mmissing ), unterminated subpattern\u001b[39m\u001b[38;5;124m\"\u001b[39m,\n\u001b[1;32m    866\u001b[0m                        source\u001b[38;5;241m.\u001b[39mtell() \u001b[38;5;241m-\u001b[39m start)\n\u001b[1;32m    867\u001b[0m \u001b[38;5;28;01mif\u001b[39;00m group \u001b[38;5;129;01mis\u001b[39;00m \u001b[38;5;129;01mnot\u001b[39;00m \u001b[38;5;28;01mNone\u001b[39;00m:\n\u001b[1;32m    868\u001b[0m     state\u001b[38;5;241m.\u001b[39mclosegroup(group, p)\n",
      "\u001b[0;31merror\u001b[0m: missing ), unterminated subpattern at position 0"
     ]
    }
   ],
   "source": [
    "# Word to search\n",
    "word = list_values[0]\n",
    "\n",
    "# Create new columns\n",
    "for word in df_main.iloc[:,0].str.split().explode().unique():\n",
    "    df_main[str(word)] = df_main.iloc[:,0].str.contains(str(word))\n",
    "\n",
    "df_main"
   ]
  },
  {
   "cell_type": "code",
   "execution_count": null,
   "metadata": {
    "id": "OHNwovQXeK_w"
   },
   "outputs": [],
   "source": []
  },
  {
   "cell_type": "code",
   "execution_count": null,
   "metadata": {
    "id": "VYjY6FoUeLCd"
   },
   "outputs": [],
   "source": []
  },
  {
   "cell_type": "code",
   "execution_count": null,
   "metadata": {
    "id": "SHUb2WQyeLFR"
   },
   "outputs": [],
   "source": []
  },
  {
   "cell_type": "code",
   "execution_count": null,
   "metadata": {
    "id": "cpvAYY1weLHo"
   },
   "outputs": [],
   "source": []
  },
  {
   "cell_type": "code",
   "execution_count": null,
   "metadata": {},
   "outputs": [],
   "source": []
  },
  {
   "cell_type": "code",
   "execution_count": null,
   "metadata": {},
   "outputs": [],
   "source": []
  },
  {
   "cell_type": "code",
   "execution_count": null,
   "metadata": {},
   "outputs": [],
   "source": []
  },
  {
   "cell_type": "code",
   "execution_count": null,
   "metadata": {},
   "outputs": [],
   "source": []
  }
 ],
 "metadata": {
  "colab": {
   "provenance": []
  },
  "kernelspec": {
   "display_name": "Python 3 (ipykernel)",
   "language": "python",
   "name": "python3"
  },
  "language_info": {
   "codemirror_mode": {
    "name": "ipython",
    "version": 3
   },
   "file_extension": ".py",
   "mimetype": "text/x-python",
   "name": "python",
   "nbconvert_exporter": "python",
   "pygments_lexer": "ipython3",
   "version": "3.11.4"
  }
 },
 "nbformat": 4,
 "nbformat_minor": 4
}
