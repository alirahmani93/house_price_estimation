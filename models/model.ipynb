{
 "cells": [
  {
   "cell_type": "markdown",
   "id": "0d270068-cb52-49ca-b6a9-60b0703e7346",
   "metadata": {},
   "source": [
    "# Welcome to the notebook to find a way to find your best house 🏠 \n",
    "## Your house should be full of Love, Secure and Peace ❤️"
   ]
  },
  {
   "cell_type": "markdown",
   "id": "8318cb27-d161-4ccc-99ab-ac942f3f3ba1",
   "metadata": {},
   "source": [
    "### Players who have a role: Adel, Parnian, Shaghayegh, Ali"
   ]
  },
  {
   "cell_type": "markdown",
   "id": "ff887ad9-b8a2-44ed-9798-222f9ffa2a19",
   "metadata": {},
   "source": [
    "### Project Github: [house_price_estimation](https://github.com/alirahmani93/house_price_estimation)"
   ]
  },
  {
   "cell_type": "markdown",
   "id": "ca1f488f-798b-4564-8c46-82ed31829803",
   "metadata": {},
   "source": [
    "<img src=\"../reports/1700600488911.jpg\" alt=\"Alternative text\" />"
   ]
  },
  {
   "cell_type": "markdown",
   "id": "bdb16ec7-301a-408f-b018-e55660754822",
   "metadata": {},
   "source": [
    "\n",
    "# imports"
   ]
  },
  {
   "cell_type": "code",
   "execution_count": 1,
   "id": "868f89b5-abf0-473d-8390-119ce70a89ba",
   "metadata": {},
   "outputs": [],
   "source": [
    "import pandas as pd\n",
    "import numpy as np\n",
    "import matplotlib.pyplot as plt\n",
    "import seaborn as sns\n",
    "from geopy.geocoders import Nominatim\n",
    "from googletrans import Translator\n",
    "import sklearn\n",
    "import sys\n",
    "sys.path.append('..')\n",
    "from preprocess import cleaner\n",
    "import my_models\n",
    "import utils\n",
    "%config IPCompleter.use_jedi = False"
   ]
  },
  {
   "cell_type": "code",
   "execution_count": 2,
   "id": "56dd2722-7ea4-4f56-8646-01b45abaed02",
   "metadata": {},
   "outputs": [
    {
     "name": "stderr",
     "output_type": "stream",
     "text": [
      "/tmp/ipykernel_15921/1915378638.py:1: DtypeWarning: Columns (10,11,12,13,16,17,42,55,56,57,58,59,68,69) have mixed types. Specify dtype option on import or set low_memory=False.\n",
      "  raw_df = pd.read_csv('../data/Post-2023-11-21.csv')\n"
     ]
    }
   ],
   "source": [
    "raw_df = pd.read_csv('../data/Post-2023-11-21.csv')"
   ]
  },
  {
   "cell_type": "code",
   "execution_count": 3,
   "id": "140f8357-f680-40e4-bbbb-ef12c306bba7",
   "metadata": {},
   "outputs": [],
   "source": [
    "housing = cleaner.Cleaner(raw_df) #.transform()"
   ]
  },
  {
   "cell_type": "code",
   "execution_count": 4,
   "id": "2ba86278-9395-4bd5-a2c0-a924675e62f8",
   "metadata": {},
   "outputs": [],
   "source": [
    "model = my_models.DivarModel(df=raw_df,cleaner_object=housing,)"
   ]
  },
  {
   "cell_type": "code",
   "execution_count": 5,
   "id": "adcc26ed-8f0c-428a-b921-1bf7d7124248",
   "metadata": {},
   "outputs": [
    {
     "name": "stdout",
     "output_type": "stream",
     "text": [
      "HERE222222\n",
      "Here 4\n"
     ]
    },
    {
     "ename": "TypeError",
     "evalue": "DivarModel.predict() takes 1 positional argument but 2 were given",
     "output_type": "error",
     "traceback": [
      "\u001b[0;31m---------------------------------------------------------------------------\u001b[0m",
      "\u001b[0;31mTypeError\u001b[0m                                 Traceback (most recent call last)",
      "Cell \u001b[0;32mIn[5], line 1\u001b[0m\n\u001b[0;32m----> 1\u001b[0m model_prediction \u001b[38;5;241m=\u001b[39m \u001b[43mmodel\u001b[49m\u001b[38;5;241;43m.\u001b[39;49m\u001b[43mtransform_fit_predict\u001b[49m\u001b[43m(\u001b[49m\u001b[43m)\u001b[49m\n",
      "File \u001b[0;32m~/work/ali/ML/source/house_price_estimation/models/my_models.py:61\u001b[0m, in \u001b[0;36mDivarModel.transform_fit_predict\u001b[0;34m(self)\u001b[0m\n\u001b[1;32m     59\u001b[0m \u001b[38;5;28mself\u001b[39m\u001b[38;5;241m.\u001b[39mtransform()\n\u001b[1;32m     60\u001b[0m \u001b[38;5;28mself\u001b[39m\u001b[38;5;241m.\u001b[39mfit()\n\u001b[0;32m---> 61\u001b[0m y_pred \u001b[38;5;241m=\u001b[39m \u001b[38;5;28;43mself\u001b[39;49m\u001b[38;5;241;43m.\u001b[39;49m\u001b[43mpredict\u001b[49m\u001b[43m(\u001b[49m\u001b[38;5;28;43mself\u001b[39;49m\u001b[43m)\u001b[49m\n\u001b[1;32m     62\u001b[0m \u001b[38;5;28mself\u001b[39m\u001b[38;5;241m.\u001b[39m_get_metrics(y_pred, \u001b[38;5;124m'\u001b[39m\u001b[38;5;124mtransform_fit_predict\u001b[39m\u001b[38;5;124m'\u001b[39m)\n\u001b[1;32m     63\u001b[0m \u001b[38;5;28;01mreturn\u001b[39;00m \u001b[38;5;28mself\u001b[39m\u001b[38;5;241m.\u001b[39mlog\n",
      "\u001b[0;31mTypeError\u001b[0m: DivarModel.predict() takes 1 positional argument but 2 were given"
     ]
    }
   ],
   "source": [
    "model_prediction = model.transform_fit_predict()"
   ]
  },
  {
   "cell_type": "code",
   "execution_count": null,
   "id": "f861373e-ad1f-4f8b-bcb0-6bff61ae350c",
   "metadata": {},
   "outputs": [],
   "source": [
    "    "
   ]
  },
  {
   "cell_type": "code",
   "execution_count": null,
   "id": "fe694a07-f35d-4385-aa12-e5b24a64a7f7",
   "metadata": {},
   "outputs": [],
   "source": []
  }
 ],
 "metadata": {
  "kernelspec": {
   "display_name": "Python 3 (ipykernel)",
   "language": "python",
   "name": "python3"
  },
  "language_info": {
   "codemirror_mode": {
    "name": "ipython",
    "version": 3
   },
   "file_extension": ".py",
   "mimetype": "text/x-python",
   "name": "python",
   "nbconvert_exporter": "python",
   "pygments_lexer": "ipython3",
   "version": "3.11.4"
  }
 },
 "nbformat": 4,
 "nbformat_minor": 5
}
